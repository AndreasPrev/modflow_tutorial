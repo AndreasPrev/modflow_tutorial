{
  "cells": [
    {
      "cell_type": "markdown",
      "metadata": {
        "id": "0NtyASEVrgsr"
      },
      "source": [
        "# Installation\n",
        "*   ModelMuse (Graphical user interface - GUI): https://www.usgs.gov/software/modelmuse-a-graphical-user-interface-groundwater-models\n",
        "     <img src=\"images\\modelmuse_download.png\" align=\"left\" width=\"600\" />\n",
        "\n",
        "\n",
        "*   Modflow: https://www.usgs.gov/software/modflow-6-usgs-modular-hydrologic-model\n",
        "     <img src=\"images\\modflow_download.png\" align=\"left\" width=\"600\" />\n"
      ]
    },
    {
      "cell_type": "code",
      "execution_count": null,
      "metadata": {},
      "outputs": [],
      "source": []
    },
    {
      "cell_type": "code",
      "execution_count": null,
      "metadata": {
        "id": "38sgivLyrcTD"
      },
      "outputs": [],
      "source": []
    },
    {
      "cell_type": "markdown",
      "metadata": {
        "id": "Z3qQuk_jrfc7"
      },
      "source": []
    }
  ],
  "metadata": {
    "colab": {
      "provenance": []
    },
    "kernelspec": {
      "display_name": "test_object_detection",
      "language": "python",
      "name": "test_object_detection"
    },
    "language_info": {
      "codemirror_mode": {
        "name": "ipython",
        "version": 3
      },
      "file_extension": ".py",
      "mimetype": "text/x-python",
      "name": "python",
      "nbconvert_exporter": "python",
      "pygments_lexer": "ipython3",
      "version": "3.10.11"
    }
  },
  "nbformat": 4,
  "nbformat_minor": 0
}
